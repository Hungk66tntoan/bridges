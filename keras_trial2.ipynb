{
 "cells": [
  {
   "cell_type": "code",
   "execution_count": 8,
   "metadata": {},
   "outputs": [],
   "source": [
    "import keras\n",
    "from keras.datasets import mnist\n",
    "from keras.layers import Dense\n",
    "from keras.models import Sequential\n",
    "from keras.optimizers import SGD\n",
    "import matplotlib.pyplot as plt\n",
    "import keras.utils as image\n",
    "\n",
    "\n",
    "\n",
    "(train_x,train_y), (test_x,test_y) =mnist.load_data()\n",
    "\n",
    "#train_x = train_x.astype('float32') / 255\n",
    "#test_x = test_x.astype('float32') / 255\n",
    "\n",
    "\n",
    "'''print(train_x)\n",
    "print(train_y.shape)\n",
    "print(test_x.shape)\n",
    "print(test_y.shape)'''\n",
    "\n",
    "\n",
    "train_x = train_x.reshape(60000,784)\n",
    "test_x = test_x.reshape(10000,784)\n",
    "\n",
    "\n",
    "train_y = keras.utils.to_categorical(train_y,10)\n",
    "test_y = keras.utils.to_categorical(test_y,10)\n",
    "\n",
    "\n",
    "#Initialize our data ************\n",
    "\n",
    "model = Sequential()\n",
    "model.add(Dense(units=128,activation=\"relu\",input_shape=(784,)))\n",
    "model.add(Dense(units=128,activation=\"relu\"))\n",
    "model.add(Dense(units=128,activation=\"relu\"))\n",
    "model.add(Dense(units=10,activation=\"softmax\"))\n",
    "\n",
    "\n",
    "#*** Compile the model **********\n",
    "\n",
    "\n",
    "model.compile(optimizer=SGD(0.001),loss=\"categorical_crossentropy\",metrics=[\"accuracy\"])\n",
    "\n",
    "\n",
    "'''model.fit(train_x,train_y,batch_size=32,epochs=10,verbose=1)\n",
    "accuracy = model.evaluate(x=test_x,y=test_y,batch_size=32)\n",
    "print(\"Accuracy: \",accuracy[1])'''\n",
    "\n",
    "\n",
    "#model.save(\"mnist-model.h5\")\n",
    "\n",
    "# load feautures after training our model\n",
    "model.load_weights(\"mnist-model.h5\")\n",
    "\n",
    "\n",
    "\n",
    "img = image.load_img(path=\"crop_7_3.jpg\",grayscale=True,target_size=(28,28,1))\n",
    "img = image.img_to_array(img)\n",
    "test_img = img.reshape((1,784))\n"
   ]
  },
  {
   "cell_type": "code",
   "execution_count": 21,
   "metadata": {},
   "outputs": [
    {
     "name": "stdout",
     "output_type": "stream",
     "text": [
      "1/1 [==============================] - 0s 37ms/step\n",
      "Class:  3\n"
     ]
    },
    {
     "data": {
      "image/png": "[encoded data removed]",
      "text/plain": [
       "<Figure size 640x480 with 1 Axes>"
      ]
     },
     "metadata": {},
     "output_type": "display_data"
    }
   ],
   "source": [
    "import numpy as np\n",
    "\n",
    "\n",
    "predict_x=model.predict(test_img) \n",
    "classes_x=np.argmax(predict_x,axis=1)\n",
    "\n",
    "\n",
    "\n",
    "classname = classes_x[0]\n",
    "img = 255 - img\n",
    "        #những giá trị nhỏ hơn 100 thì đặt bằng 0\n",
    "img[img<100]=0\n",
    "img[img>=100]=255\n",
    "print(\"Class: \",classname)\n",
    "img = img.reshape((28,28))\n",
    "plt.imshow(img)\n",
    "plt.title(classname)\n",
    "plt.show()"
   ]
  },
  {
   "cell_type": "code",
   "execution_count": 13,
   "metadata": {},
   "outputs": [
    {
     "name": "stdout",
     "output_type": "stream",
     "text": [
      "1/1 [==============================] - 0s 42ms/step\n",
      "1/1 [==============================] - 0s 35ms/step\n",
      "1/1 [==============================] - 0s 38ms/step\n",
      "1/1 [==============================] - 0s 33ms/step\n",
      "1/1 [==============================] - 0s 29ms/step\n",
      "1/1 [==============================] - 0s 31ms/step\n",
      "1/1 [==============================] - 0s 35ms/step\n",
      "1/1 [==============================] - 0s 31ms/step\n",
      "1/1 [==============================] - 0s 35ms/step\n",
      "['.', 2, 2, '.', 3, 2, 3, 2, 3]\n",
      "1/1 [==============================] - 0s 33ms/step\n",
      "1/1 [==============================] - 0s 32ms/step\n",
      "1/1 [==============================] - 0s 37ms/step\n",
      "1/1 [==============================] - 0s 34ms/step\n",
      "1/1 [==============================] - 0s 35ms/step\n",
      "1/1 [==============================] - 0s 34ms/step\n",
      "1/1 [==============================] - 0s 30ms/step\n",
      "1/1 [==============================] - 0s 30ms/step\n",
      "1/1 [==============================] - 0s 68ms/step\n",
      "['.', 3, 3, 2, 3, 7, 3, 3, 3]\n",
      "1/1 [==============================] - 0s 35ms/step\n",
      "1/1 [==============================] - 0s 30ms/step\n",
      "1/1 [==============================] - 0s 29ms/step\n",
      "1/1 [==============================] - 0s 30ms/step\n",
      "1/1 [==============================] - 0s 28ms/step\n",
      "1/1 [==============================] - 0s 31ms/step\n",
      "1/1 [==============================] - 0s 35ms/step\n",
      "1/1 [==============================] - 0s 34ms/step\n",
      "1/1 [==============================] - 0s 29ms/step\n",
      "['.', 7, 3, '.', '.', 3, '.', 3, '.']\n",
      "1/1 [==============================] - 0s 25ms/step\n",
      "1/1 [==============================] - 0s 29ms/step\n",
      "1/1 [==============================] - 0s 28ms/step\n",
      "1/1 [==============================] - 0s 27ms/step\n",
      "1/1 [==============================] - 0s 28ms/step\n",
      "1/1 [==============================] - 0s 56ms/step\n",
      "1/1 [==============================] - 0s 28ms/step\n",
      "1/1 [==============================] - 0s 27ms/step\n",
      "1/1 [==============================] - 0s 25ms/step\n",
      "[7, 2, '.', 7, 2, 7, 2, '.', 2]\n",
      "1/1 [==============================] - 0s 43ms/step\n",
      "1/1 [==============================] - 0s 40ms/step\n",
      "1/1 [==============================] - 0s 24ms/step\n",
      "1/1 [==============================] - 0s 29ms/step\n",
      "1/1 [==============================] - 0s 141ms/step\n",
      "1/1 [==============================] - 0s 28ms/step\n",
      "1/1 [==============================] - 0s 26ms/step\n",
      "1/1 [==============================] - 0s 32ms/step\n",
      "1/1 [==============================] - 0s 24ms/step\n",
      "[3, '.', '.', 3, '.', 3, '.', '.', 3]\n",
      "1/1 [==============================] - 0s 34ms/step\n",
      "1/1 [==============================] - 0s 38ms/step\n",
      "1/1 [==============================] - 0s 26ms/step\n",
      "1/1 [==============================] - 0s 27ms/step\n",
      "1/1 [==============================] - 0s 25ms/step\n",
      "1/1 [==============================] - 0s 26ms/step\n",
      "1/1 [==============================] - 0s 28ms/step\n",
      "1/1 [==============================] - 0s 28ms/step\n",
      "1/1 [==============================] - 0s 27ms/step\n",
      "[7, 2, '.', 7, 2, 3, 2, '.', 9]\n",
      "1/1 [==============================] - 0s 30ms/step\n",
      "1/1 [==============================] - 0s 26ms/step\n",
      "1/1 [==============================] - 0s 27ms/step\n",
      "1/1 [==============================] - 0s 25ms/step\n",
      "1/1 [==============================] - 0s 29ms/step\n",
      "1/1 [==============================] - 0s 34ms/step\n",
      "1/1 [==============================] - 0s 24ms/step\n",
      "1/1 [==============================] - 0s 40ms/step\n",
      "1/1 [==============================] - 0s 27ms/step\n",
      "[3, '.', '.', 3, '.', 3, '.', 9, 2]\n",
      "1/1 [==============================] - 0s 26ms/step\n",
      "1/1 [==============================] - 0s 25ms/step\n",
      "1/1 [==============================] - 0s 26ms/step\n",
      "1/1 [==============================] - 0s 27ms/step\n",
      "1/1 [==============================] - 0s 28ms/step\n",
      "1/1 [==============================] - 0s 26ms/step\n",
      "1/1 [==============================] - 0s 81ms/step\n",
      "1/1 [==============================] - 0s 28ms/step\n",
      "1/1 [==============================] - 0s 30ms/step\n",
      "['.', 3, 2, 7, 2, '.', 9, 2, '.']\n",
      "1/1 [==============================] - 0s 30ms/step\n",
      "1/1 [==============================] - 0s 27ms/step\n",
      "1/1 [==============================] - 0s 25ms/step\n",
      "1/1 [==============================] - 0s 28ms/step\n",
      "1/1 [==============================] - 0s 30ms/step\n",
      "1/1 [==============================] - 0s 28ms/step\n",
      "1/1 [==============================] - 0s 30ms/step\n",
      "1/1 [==============================] - 0s 28ms/step\n",
      "1/1 [==============================] - 0s 26ms/step\n",
      "[9, 2, 9, 2, 7, 2, 3, 7, 2]\n"
     ]
    }
   ],
   "source": [
    "for i in range(9):\n",
    "    list1=[]\n",
    "    for j in range(9):\n",
    "        img = image.load_img(path=\"crop_\"+str(i)+\"_\"+str(j)+\".jpg\",grayscale=True,target_size=(28,28,1))\n",
    "        img = image.img_to_array(img)\n",
    "        #biến trắng thành đen và ngược lại\n",
    "        img = 255 - img\n",
    "        #những giá trị nhỏ hơn 100 thì đặt bằng 0\n",
    "        img[img<100]=0\n",
    "        img[img>=100]=255\n",
    "        for i2 in range(28):\n",
    "            for j2 in range(28):\n",
    "                if i2==0 or i2==27 or j2==0 or j2==27:\n",
    "                    img[i2][j2]=0\n",
    "        test_img = img.reshape((1,784))\n",
    "        predict_x=model.predict(test_img)\n",
    "        classes_x=np.argmax(predict_x,axis=1)\n",
    "        classname = classes_x[0]\n",
    "        #nếu xác suất > 0.9 thì in ra kết quả\n",
    "        if predict_x[0][classname]>0.5:\n",
    "            list1.append(classname)\n",
    "        else:\n",
    "            list1.append('.')\n",
    "    print(list1)\n",
    "        "
   ]
  },
  {
   "cell_type": "code",
   "execution_count": 26,
   "metadata": {},
   "outputs": [
    {
     "name": "stdout",
     "output_type": "stream",
     "text": [
      "1/1 [==============================] - 0s 39ms/step\n"
     ]
    },
    {
     "name": "stderr",
     "output_type": "stream",
     "text": [
      "d:\\new_program\\Python\\Python311\\Lib\\site-packages\\keras\\utils\\image_utils.py:409: UserWarning: grayscale is deprecated. Please use color_mode = \"grayscale\"\n",
      "  warnings.warn(\n"
     ]
    },
    {
     "data": {
      "image/png": "[encoded data removed]",
      "text/plain": [
       "<Figure size 640x480 with 1 Axes>"
      ]
     },
     "metadata": {},
     "output_type": "display_data"
    },
    {
     "name": "stdout",
     "output_type": "stream",
     "text": [
      "[[0.0000000e+00 1.4593253e-10 3.1301556e-15 1.0000000e+00 1.3184813e-32\n",
      "  2.6316858e-15 3.0954425e-33 1.9216565e-21 5.6172955e-09 6.0240964e-25]]\n"
     ]
    }
   ],
   "source": [
    "#lấy ảnh 3.jpg ra test\n",
    "img = image.load_img(path=\"3.jpg\",grayscale=True,target_size=(28,28,1))\n",
    "\n",
    "\n",
    "img = image.img_to_array(img)\n",
    "img = 255-  img\n",
    "img[img<100]=0\n",
    "img[img>=100]=255\n",
    "test_img = img.reshape((1,784))\n",
    "predict_x=model.predict(test_img)\n",
    "classes_x=np.argmax(predict_x,axis=1)\n",
    "classname = classes_x[0]\n",
    "img = img.reshape((28,28))\n",
    "plt.imshow(img)\n",
    "plt.title(classname)\n",
    "plt.show()\n",
    "img[0,0]\n",
    "#in ra xác suất của các số\n",
    "print(predict_x)"
   ]
  }
 ],
 "metadata": {
  "kernelspec": {
   "display_name": "Python 3",
   "language": "python",
   "name": "python3"
  },
  "language_info": {
   "codemirror_mode": {
    "name": "ipython",
    "version": 3
   },
   "file_extension": ".py",
   "mimetype": "text/x-python",
   "name": "python",
   "nbconvert_exporter": "python",
   "pygments_lexer": "ipython3",
   "version": "3.11.3"
  },
  "orig_nbformat": 4
 },
 "nbformat": 4,
 "nbformat_minor": 2
}
