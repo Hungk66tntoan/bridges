{
 "cells": [
  {
   "cell_type": "code",
   "execution_count": 1,
   "metadata": {},
   "outputs": [],
   "source": [
    "import cv2\n",
    "import numpy as np\n",
    "img=cv2.imread('digit.png',0) \n",
    "ret,thresh=cv2.threshold(img,127,255,0) \n",
    "edges=cv2.Canny(img,100,200) "
   ]
  },
  {
   "cell_type": "code",
   "execution_count": 2,
   "metadata": {},
   "outputs": [
    {
     "name": "stdout",
     "output_type": "stream",
     "text": [
      "(385, 382)\n"
     ]
    }
   ],
   "source": [
    "\n",
    "\n",
    "import cv2\n",
    "\n",
    "\n",
    "\n",
    "from PIL import Image\n",
    "import numpy as np\n",
    "\n",
    "# Load ảnh\n",
    "image = Image.open('bridge_game.jpg')\n",
    "print(image.size)\n",
    "# (3508, 2480)\n",
    "image = np.array(image)\n",
    "# Chuyển ảnh sang mau xám\n",
    "gray = cv2.cvtColor(image, cv2.COLOR_BGR2GRAY)\n",
    "\n",
    "#print gray vào file \n",
    "with open('gray.txt', 'w') as f:\n",
    "    for item in gray:\n",
    "        f.write(\"%s\\n\" % item)\n",
    "#thu nho anh\n",
    "gray = cv2.resize(gray, (0,0), fx=0.5, fy=0.5)\n",
    "gray[gray<100]=0\n",
    "gray[gray>=100]=255\n",
    "with open('gray.txt', 'w') as f:\n",
    "    for item in gray:\n",
    "        f.write(\"%s\\n\" % item)"
   ]
  },
  {
   "cell_type": "code",
   "execution_count": 3,
   "metadata": {},
   "outputs": [
    {
     "name": "stdout",
     "output_type": "stream",
     "text": [
      "4\n",
      "187\n",
      "3\n",
      "186\n"
     ]
    }
   ],
   "source": [
    "#Lấy cột x min sao cho gray[x][y] != 255\n",
    "def get_x_min(gray):\n",
    "    for i in range(len(gray)):\n",
    "        for j in range(len(gray[i])):\n",
    "            if gray[i][j] != 255:\n",
    "                return i\n",
    "    return -1\n",
    "#tương tự với cột x max, hàng y min, hàng y max\n",
    "def get_x_max(gray):\n",
    "    for i in range(len(gray)-1, -1, -1):\n",
    "        for j in range(len(gray[i])):\n",
    "            if gray[i][j] != 255:\n",
    "                return i\n",
    "    return -1\n",
    "def get_y_min(gray):\n",
    "    for i in range(len(gray[0])):\n",
    "        for j in range(len(gray)):\n",
    "            if gray[j][i] != 255:\n",
    "                return i\n",
    "    return -1\n",
    "def get_y_max(gray):\n",
    "    for i in range(len(gray[0])-1, -1, -1):\n",
    "        for j in range(len(gray)):\n",
    "            if gray[j][i] != 255:\n",
    "                return i\n",
    "    return -1\n",
    "\n",
    "print(get_x_min(gray))\n",
    "print(get_x_max(gray))\n",
    "print(get_y_min(gray))\n",
    "print(get_y_max(gray))\n"
   ]
  },
  {
   "cell_type": "code",
   "execution_count": 4,
   "metadata": {},
   "outputs": [
    {
     "data": {
      "text/plain": [
       "True"
      ]
     },
     "execution_count": 4,
     "metadata": {},
     "output_type": "execute_result"
    }
   ],
   "source": [
    "#crop ảnh theo x_min, x_max, y_min, y_max\n",
    "gray = gray[get_x_min(gray):get_x_max(gray),\n",
    "            get_y_min(gray):get_y_max(gray)]\n",
    "gray.shape\n",
    "#in gray ra ảnh\n",
    "cv2.imwrite('gray.jpg', gray)"
   ]
  },
  {
   "cell_type": "code",
   "execution_count": 5,
   "metadata": {},
   "outputs": [
    {
     "data": {
      "text/plain": [
       "(20, 20)"
      ]
     },
     "execution_count": 5,
     "metadata": {},
     "output_type": "execute_result"
    }
   ],
   "source": [
    "#cắt ảnh thành 81 ô\n",
    "def crop_image(image, x, y, w, h):\n",
    "    return image[y:y+h, x:x+w]\n",
    "row_step = gray.shape[0] // 9\n",
    "col_step = gray.shape[1] // 9 \n",
    "for i in range(9):\n",
    "    for j in range(9):\n",
    "        crop = crop_image(gray, j*col_step, \n",
    "                          i*row_step, col_step, row_step)\n",
    "        cv2.imwrite('crop_%d_%d.jpg' % (i, j), crop)\n",
    "row_step, col_step\n"
   ]
  }
 ],
 "metadata": {
  "kernelspec": {
   "display_name": "Python 3",
   "language": "python",
   "name": "python3"
  },
  "language_info": {
   "codemirror_mode": {
    "name": "ipython",
    "version": 3
   },
   "file_extension": ".py",
   "mimetype": "text/x-python",
   "name": "python",
   "nbconvert_exporter": "python",
   "pygments_lexer": "ipython3",
   "version": "3.11.3"
  },
  "orig_nbformat": 4
 },
 "nbformat": 4,
 "nbformat_minor": 2
}
