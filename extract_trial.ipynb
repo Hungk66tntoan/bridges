{
 "cells": [
  {
   "cell_type": "code",
   "execution_count": 21,
   "metadata": {},
   "outputs": [],
   "source": [
    "#thử crop_8_7.jpg\n",
    "\n",
    "import cv2\n",
    "import numpy as np\n",
    "\n",
    "img = cv2.imread('crop_7_1.jpg')\n",
    "#thư viện đọc số từ ảnh\n",
    "import pytesseract\n",
    "pytesseract.pytesseract.tesseract_cmd = r'D:\\new_program\\Tesseract-OCR\\tesseract.exe'\n",
    "#thư viện đọc số từ ảnh\n"
   ]
  },
  {
   "cell_type": "code",
   "execution_count": 24,
   "metadata": {},
   "outputs": [
    {
     "name": "stdout",
     "output_type": "stream",
     "text": [
      "qd\n",
      "\n"
     ]
    }
   ],
   "source": [
    "#đọc text từ ảnh\n",
    "read = pytesseract.image_to_string(img,  lang='eng',\n",
    "        config='--psm 6')\n",
    "print(read)"
   ]
  },
  {
   "cell_type": "code",
   "execution_count": 25,
   "metadata": {},
   "outputs": [
    {
     "data": {
      "text/plain": [
       "'qd\\n'"
      ]
     },
     "execution_count": 25,
     "metadata": {},
     "output_type": "execute_result"
    }
   ],
   "source": [
    "read"
   ]
  },
  {
   "cell_type": "code",
   "execution_count": 30,
   "metadata": {},
   "outputs": [
    {
     "name": "stdout",
     "output_type": "stream",
     "text": [
      "['', '4', '', '', '', '', '', '', '']\n",
      "['', '', '', '', '', '', '', '', '']\n",
      "['', '', '7', '', '', '', '', '', '']\n",
      "['', '', '', '', '', '', '', '', '4']\n",
      "['', '', '', '', '', '', '', '4', '']\n",
      "['', '', '', '', '', '', '', '4', '']\n",
      "['', '', '4', '', '', '', '', '', '2']\n",
      "['', '', '', '', '', '', '', '', '']\n",
      "['', '', '', '', '', '', '', '', '']\n"
     ]
    }
   ],
   "source": [
    "#for trâu\n",
    "for i in range(9):\n",
    "    line = []\n",
    "    for j in range(9):\n",
    "        img = cv2.imread(f'crop_{i}_{j}.jpg')\n",
    "        read = pytesseract.image_to_string(img,  lang='eng',\n",
    "        config='--psm 10 --oem 3 -c tessedit_char_whitelist=0123456789')\n",
    "        #loại bỏ \\n\n",
    "        read = read.replace('\\n', '')\n",
    "        line.append(read)\n",
    "    print(line)\n",
    "        \n",
    "        "
   ]
  }
 ],
 "metadata": {
  "kernelspec": {
   "display_name": "Python 3",
   "language": "python",
   "name": "python3"
  },
  "language_info": {
   "codemirror_mode": {
    "name": "ipython",
    "version": 3
   },
   "file_extension": ".py",
   "mimetype": "text/x-python",
   "name": "python",
   "nbconvert_exporter": "python",
   "pygments_lexer": "ipython3",
   "version": "3.11.3"
  },
  "orig_nbformat": 4
 },
 "nbformat": 4,
 "nbformat_minor": 2
}
