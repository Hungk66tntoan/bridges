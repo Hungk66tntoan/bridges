{
 "cells": [
  {
   "cell_type": "code",
   "execution_count": 1,
   "metadata": {},
   "outputs": [
    {
     "name": "stdout",
     "output_type": "stream",
     "text": [
      "(10,)\n",
      "['.4..3.3.3' '..1..2.1.' '.2.......' '2..2.2..4' '.........' '3..3.1..2'\n",
      " '.......2.' '.1.3..2..' '2.2.3..3.' '']\n"
     ]
    }
   ],
   "source": [
    "#B1: đọc dữ liệu từ bridge_game.txt\n",
    "import numpy as np\n",
    "with open('bridge_game.txt', 'r') as f:\n",
    "    data = f.read()\n",
    "    data = data.split('\\n')\n",
    "    data = np.array(data)\n",
    "    print(data.shape)\n",
    "    print(data)\n"
   ]
  },
  {
   "cell_type": "code",
   "execution_count": 2,
   "metadata": {},
   "outputs": [
    {
     "name": "stdout",
     "output_type": "stream",
     "text": [
      ".4..3.3.3\n",
      "..1..2.1.\n",
      ".2.......\n",
      "2..2.2..4\n",
      ".........\n",
      "3..3.1..2\n",
      ".......2.\n",
      ".1.3..2..\n",
      "2.2.3..3.\n",
      "\n"
     ]
    }
   ],
   "source": [
    "for i in range(len(data)):\n",
    "    print(data[i])"
   ]
  },
  {
   "cell_type": "code",
   "execution_count": 3,
   "metadata": {},
   "outputs": [],
   "source": [
    "size = 9"
   ]
  },
  {
   "cell_type": "code",
   "execution_count": 4,
   "metadata": {},
   "outputs": [
    {
     "name": "stdout",
     "output_type": "stream",
     "text": [
      "Node(id: 0, goal_order: 4, [],x= 0,y= 1)\n",
      "Node(id: 1, goal_order: 3, [],x= 0,y= 4)\n",
      "Node(id: 2, goal_order: 3, [],x= 0,y= 6)\n",
      "Node(id: 3, goal_order: 3, [],x= 0,y= 8)\n",
      "Node(id: 4, goal_order: 1, [],x= 1,y= 2)\n",
      "Node(id: 5, goal_order: 2, [],x= 1,y= 5)\n",
      "Node(id: 6, goal_order: 1, [],x= 1,y= 7)\n",
      "Node(id: 7, goal_order: 2, [],x= 2,y= 1)\n",
      "Node(id: 8, goal_order: 2, [],x= 3,y= 0)\n",
      "Node(id: 9, goal_order: 2, [],x= 3,y= 3)\n",
      "Node(id: 10, goal_order: 2, [],x= 3,y= 5)\n",
      "Node(id: 11, goal_order: 4, [],x= 3,y= 8)\n",
      "Node(id: 12, goal_order: 3, [],x= 5,y= 0)\n",
      "Node(id: 13, goal_order: 3, [],x= 5,y= 3)\n",
      "Node(id: 14, goal_order: 1, [],x= 5,y= 5)\n",
      "Node(id: 15, goal_order: 2, [],x= 5,y= 8)\n",
      "Node(id: 16, goal_order: 2, [],x= 6,y= 7)\n",
      "Node(id: 17, goal_order: 1, [],x= 7,y= 1)\n",
      "Node(id: 18, goal_order: 3, [],x= 7,y= 3)\n",
      "Node(id: 19, goal_order: 2, [],x= 7,y= 6)\n",
      "Node(id: 20, goal_order: 2, [],x= 8,y= 0)\n",
      "Node(id: 21, goal_order: 2, [],x= 8,y= 2)\n",
      "Node(id: 22, goal_order: 3, [],x= 8,y= 4)\n",
      "Node(id: 23, goal_order: 3, [],x= 8,y= 7)\n"
     ]
    }
   ],
   "source": [
    "#B2: tạo dictionary nodes\n",
    "counter = 0\n",
    "from model.node import Node\n",
    "nodes = {}\n",
    "#get id from position\n",
    "position = {}\n",
    "for i in range(size):\n",
    "    for j in range(size):\n",
    "        if data[i][j] != '.':\n",
    "            nodes[counter] = Node(\n",
    "                id = counter,\n",
    "                goal_order= int(data[i][j]),\n",
    "                x = i,\n",
    "                y = j,\n",
    "                potenial_neighbor_ids = [])\n",
    "            position[(i,j)] = counter\n",
    "            counter += 1\n",
    "for key, value in nodes.items():\n",
    "    print(value)"
   ]
  },
  {
   "cell_type": "code",
   "execution_count": 5,
   "metadata": {},
   "outputs": [
    {
     "data": {
      "text/plain": [
       "{(0, 1): 0,\n",
       " (0, 4): 1,\n",
       " (0, 6): 2,\n",
       " (0, 8): 3,\n",
       " (1, 2): 4,\n",
       " (1, 5): 5,\n",
       " (1, 7): 6,\n",
       " (2, 1): 7,\n",
       " (3, 0): 8,\n",
       " (3, 3): 9,\n",
       " (3, 5): 10,\n",
       " (3, 8): 11,\n",
       " (5, 0): 12,\n",
       " (5, 3): 13,\n",
       " (5, 5): 14,\n",
       " (5, 8): 15,\n",
       " (6, 7): 16,\n",
       " (7, 1): 17,\n",
       " (7, 3): 18,\n",
       " (7, 6): 19,\n",
       " (8, 0): 20,\n",
       " (8, 2): 21,\n",
       " (8, 4): 22,\n",
       " (8, 7): 23}"
      ]
     },
     "execution_count": 5,
     "metadata": {},
     "output_type": "execute_result"
    }
   ],
   "source": [
    "position"
   ]
  },
  {
   "cell_type": "code",
   "execution_count": 6,
   "metadata": {},
   "outputs": [],
   "source": [
    "def order_pair(a,b):\n",
    "    if a < b:\n",
    "        return (a,b)\n",
    "    else:\n",
    "        return (b,a)"
   ]
  },
  {
   "cell_type": "code",
   "execution_count": 7,
   "metadata": {},
   "outputs": [],
   "source": [
    "#B3: tạo các neighbor cho các node\n",
    "edges = set()\n",
    "for node_i in nodes.keys():\n",
    "    x = nodes[node_i].x\n",
    "    y = nodes[node_i].y\n",
    "    leftx = x - 1\n",
    "    while(leftx >= 0):\n",
    "        if (leftx, y) in position.keys():\n",
    "            nodes[node_i].potenial_neighbor_ids.append(position[(leftx, y)])\n",
    "            edges.add(order_pair(node_i, position[(leftx, y)]))\n",
    "            break\n",
    "        leftx -= 1\n",
    "    rightx = x + 1\n",
    "    while(rightx < size):\n",
    "        if (rightx, y) in position.keys():\n",
    "            nodes[node_i].potenial_neighbor_ids.append(position[(rightx, y)])\n",
    "            edges.add(order_pair(node_i, position[(rightx, y)]))\n",
    "            break\n",
    "        rightx += 1\n",
    "    upy = y - 1\n",
    "    while(upy >= 0):\n",
    "        if (x, upy) in position.keys():\n",
    "            nodes[node_i].potenial_neighbor_ids.append(position[(x, upy)])\n",
    "            edges.add(order_pair(node_i, position[(x, upy)]))\n",
    "            break\n",
    "        upy -= 1\n",
    "    downy = y + 1\n",
    "    while (downy < size):\n",
    "        if (x, downy) in position.keys():\n",
    "            nodes[node_i].potenial_neighbor_ids.append(position[(x, downy)])\n",
    "            edges.add(order_pair(node_i, position[(x, downy)]))\n",
    "            break\n",
    "        downy += 1\n",
    "    "
   ]
  },
  {
   "cell_type": "code",
   "execution_count": 8,
   "metadata": {},
   "outputs": [
    {
     "data": {
      "text/plain": [
       "31"
      ]
     },
     "execution_count": 8,
     "metadata": {},
     "output_type": "execute_result"
    }
   ],
   "source": [
    "edges\n",
    "len(edges)"
   ]
  },
  {
   "cell_type": "code",
   "execution_count": 9,
   "metadata": {},
   "outputs": [],
   "source": [
    "#B4: tìm các cặp cạnh cắt nhau\n",
    "cut_edges = set()\n",
    "for edge_i in edges:\n",
    "    #cạnh i là cạnh dọc thì bỏ qua\n",
    "    if nodes[edge_i[0]].y == nodes[edge_i[1]].y:\n",
    "        continue\n",
    "    #nên canh i là cạnh ngang\n",
    "    for edge_j in edges:\n",
    "        #cạnh j là cạnh ngang thì bỏ qua\n",
    "        if nodes[edge_j[0]].x == nodes[edge_j[1]].x:\n",
    "            continue\n",
    "        #nên canh j là cạnh dọc\n",
    "        if edge_i != edge_j:\n",
    "            #2 cạnh ko chung đỉnh\n",
    "            if edge_i[0] != edge_j[0] and edge_i[0] != edge_j[1] and edge_i[1] != edge_j[0] and edge_i[1] != edge_j[1]:\n",
    "                x_i = nodes[edge_i[0]].x\n",
    "                y_j = nodes[edge_j[0]].y\n",
    "                x_1 = nodes[edge_j[0]].x\n",
    "                x_2 = nodes[edge_j[1]].x\n",
    "                y_1 = nodes[edge_i[0]].y\n",
    "                y_2 = nodes[edge_i[1]].y\n",
    "                if(x_1<x_i and x_i<x_2 and y_1<y_j and y_j<y_2):\n",
    "                    cut_edges.add((edge_i, edge_j))"
   ]
  },
  {
   "cell_type": "code",
   "execution_count": 10,
   "metadata": {},
   "outputs": [
    {
     "data": {
      "text/plain": [
       "{((4, 5), (1, 22)),\n",
       " ((5, 6), (2, 19)),\n",
       " ((8, 9), (4, 21)),\n",
       " ((8, 9), (7, 17)),\n",
       " ((9, 10), (1, 22)),\n",
       " ((10, 11), (2, 19)),\n",
       " ((10, 11), (6, 16)),\n",
       " ((12, 13), (4, 21)),\n",
       " ((12, 13), (7, 17)),\n",
       " ((13, 14), (1, 22)),\n",
       " ((14, 15), (2, 19)),\n",
       " ((14, 15), (6, 16)),\n",
       " ((17, 18), (4, 21)),\n",
       " ((18, 19), (1, 22))}"
      ]
     },
     "execution_count": 10,
     "metadata": {},
     "output_type": "execute_result"
    }
   ],
   "source": [
    "cut_edges"
   ]
  },
  {
   "cell_type": "code",
   "execution_count": 11,
   "metadata": {},
   "outputs": [
    {
     "data": {
      "text/plain": [
       "(8, 4)"
      ]
     },
     "execution_count": 11,
     "metadata": {},
     "output_type": "execute_result"
    }
   ],
   "source": [
    "nodes[22].x,nodes[22].y"
   ]
  },
  {
   "cell_type": "code",
   "execution_count": 12,
   "metadata": {},
   "outputs": [
    {
     "name": "stdout",
     "output_type": "stream",
     "text": [
      "Restricted license - for non-production use only - expires 2024-10-28\n"
     ]
    }
   ],
   "source": [
    "#Phần 2: tạo model \n",
    "import gurobipy as gp\n",
    "from gurobipy import GRB\n",
    "model = gp.Model('bridge_game')"
   ]
  },
  {
   "cell_type": "code",
   "execution_count": 13,
   "metadata": {},
   "outputs": [],
   "source": [
    "x = {}\n",
    "for edge_key in edges:\n",
    "    x[edge_key] = model.addVar(vtype=GRB.BINARY, name=f'x_{edge_key}')\n",
    "    x[edge_key,2] = model.addVar(vtype=GRB.BINARY, name=f'x_{edge_key}_2') #cái cạnh thứ 2 copy "
   ]
  },
  {
   "cell_type": "code",
   "execution_count": 18,
   "metadata": {},
   "outputs": [],
   "source": [
    "\n",
    "for node_id in nodes.keys():\n",
    "    #lấy ra các cạnh có chứa node_id\n",
    "    edges_contain_node_id = []\n",
    "    for neighbor_id in nodes[node_id].potenial_neighbor_ids:\n",
    "        edge_key = (order_pair(node_id, neighbor_id))\n",
    "        edges_contain_node_id.append (x[edge_key])\n",
    "        edges_contain_node_id.append(x[edge_key,2])\n",
    "    model.addConstr(sum(edges_contain_node_id) == nodes[node_id].goal_order, name=f'node_{node_id}')\n",
    "        \n",
    "    "
   ]
  },
  {
   "cell_type": "code",
   "execution_count": 21,
   "metadata": {},
   "outputs": [
    {
     "name": "stdout",
     "output_type": "stream",
     "text": [
      "Gurobi Optimizer version 10.0.1 build v10.0.1rc0 (win64)\n",
      "\n",
      "CPU model: Intel(R) Core(TM) i7-5600U CPU @ 2.60GHz, instruction set [SSE2|AVX|AVX2]\n",
      "Thread count: 2 physical cores, 4 logical processors, using up to 4 threads\n",
      "\n",
      "Optimize a model with 24 rows, 62 columns and 124 nonzeros\n",
      "Model fingerprint: 0x046db814\n",
      "Variable types: 0 continuous, 62 integer (62 binary)\n",
      "Coefficient statistics:\n",
      "  Matrix range     [1e+00, 1e+00]\n",
      "  Objective range  [0e+00, 0e+00]\n",
      "  Bounds range     [1e+00, 1e+00]\n",
      "  RHS range        [1e+00, 4e+00]\n",
      "\n",
      "\n",
      "\n",
      "Explored 0 nodes (0 simplex iterations) in 0.01 seconds (0.00 work units)\n",
      "Thread count was 1 (of 4 available processors)\n",
      "\n",
      "Solution count 1: 0 \n",
      "\n",
      "Optimal solution found (tolerance 1.00e-04)\n",
      "Best objective 0.000000000000e+00, best bound 0.000000000000e+00, gap 0.0000%\n",
      "x_(12, 13) 1.0\n",
      "x_(12, 13)_2 1.0\n",
      "x_(21, 22)_2 1.0\n",
      "x_(22, 23) 1.0\n",
      "x_(22, 23)_2 1.0\n",
      "x_(5, 10) 1.0\n",
      "x_(8, 9) 1.0\n",
      "x_(8, 9)_2 1.0\n",
      "x_(17, 18) 1.0\n",
      "x_(18, 19)_2 1.0\n",
      "x_(4, 5) 1.0\n",
      "x_(0, 1) 1.0\n",
      "x_(0, 1)_2 1.0\n",
      "x_(0, 7) 1.0\n",
      "x_(0, 7)_2 1.0\n",
      "x_(1, 2)_2 1.0\n",
      "x_(10, 14)_2 1.0\n",
      "x_(2, 19) 1.0\n",
      "x_(6, 16) 1.0\n",
      "x_(3, 11) 1.0\n",
      "x_(3, 11)_2 1.0\n",
      "x_(20, 21) 1.0\n",
      "x_(12, 20)_2 1.0\n",
      "x_(2, 3) 1.0\n",
      "x_(16, 23) 1.0\n",
      "x_(11, 15) 1.0\n",
      "x_(11, 15)_2 1.0\n",
      "x_(13, 18)_2 1.0\n"
     ]
    }
   ],
   "source": [
    "model.optimize()\n",
    "#print value\n",
    "for v in model.getVars():\n",
    "    if v.x > 0:\n",
    "        print(v.varName, v.x)"
   ]
  },
  {
   "cell_type": "code",
   "execution_count": 23,
   "metadata": {},
   "outputs": [
    {
     "name": "stdout",
     "output_type": "stream",
     "text": [
      "Gurobi Optimizer version 10.0.1 build v10.0.1rc0 (win64)\n",
      "\n",
      "CPU model: Intel(R) Core(TM) i7-5600U CPU @ 2.60GHz, instruction set [SSE2|AVX|AVX2]\n",
      "Thread count: 2 physical cores, 4 logical processors, using up to 4 threads\n",
      "\n",
      "Optimize a model with 52 rows, 62 columns and 180 nonzeros\n",
      "Model fingerprint: 0x55cbd329\n",
      "Variable types: 0 continuous, 62 integer (62 binary)\n",
      "Coefficient statistics:\n",
      "  Matrix range     [1e+00, 1e+00]\n",
      "  Objective range  [0e+00, 0e+00]\n",
      "  Bounds range     [1e+00, 1e+00]\n",
      "  RHS range        [1e+00, 4e+00]\n",
      "\n",
      "Loaded MIP start from previous solve with objective 0\n",
      "\n",
      "\n",
      "Explored 0 nodes (0 simplex iterations) in 0.01 seconds (0.00 work units)\n",
      "Thread count was 1 (of 4 available processors)\n",
      "\n",
      "Solution count 1: 0 \n",
      "\n",
      "Optimal solution found (tolerance 1.00e-04)\n",
      "Best objective 0.000000000000e+00, best bound 0.000000000000e+00, gap 0.0000%\n"
     ]
    }
   ],
   "source": [
    "#B6: check các cạnh cắt nhau\n",
    "for cut_edge in cut_edges:\n",
    "    edge1 = cut_edge[0]\n",
    "    edge2 = cut_edge[1]\n",
    "    model.addConstr(x[edge1] + x[edge2] <= 1, name=f'cut_{edge1}_{edge2}')\n",
    "model.optimize()"
   ]
  },
  {
   "cell_type": "code",
   "execution_count": null,
   "metadata": {},
   "outputs": [],
   "source": [
    "#B7: check đồ thị liên thông\n"
   ]
  }
 ],
 "metadata": {
  "kernelspec": {
   "display_name": "Python 3",
   "language": "python",
   "name": "python3"
  },
  "language_info": {
   "codemirror_mode": {
    "name": "ipython",
    "version": 3
   },
   "file_extension": ".py",
   "mimetype": "text/x-python",
   "name": "python",
   "nbconvert_exporter": "python",
   "pygments_lexer": "ipython3",
   "version": "3.11.3"
  },
  "orig_nbformat": 4
 },
 "nbformat": 4,
 "nbformat_minor": 2
}
